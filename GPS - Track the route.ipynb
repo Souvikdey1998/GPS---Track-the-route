{
 "cells": [
  {
   "cell_type": "code",
   "execution_count": 1,
   "metadata": {},
   "outputs": [
    {
     "name": "stdout",
     "output_type": "stream",
     "text": [
      "28.686086\n",
      "77.325074\n",
      "106.01116\n",
      "28.685742\n",
      "77.325305\n",
      "106.011047\n",
      "28.685295\n",
      "77.325608\n",
      "106.010903\n",
      "28.684968\n",
      "77.325847\n",
      "106.010815\n",
      "28.684542\n",
      "77.326147\n",
      "106.01068900000001\n",
      "28.684288\n",
      "77.326316\n",
      "106.010604\n",
      "28.68398\n",
      "77.326515\n",
      "106.01049499999999\n",
      "28.683756\n",
      "77.326094\n",
      "106.00985\n",
      "28.683573\n",
      "77.32578\n",
      "106.00935299999999\n"
     ]
    }
   ],
   "source": [
    "import csv\n",
    "with open('route.csv','r') as f:\n",
    "    reader = csv.reader(f)\n",
    "    \n",
    "    for row in reader:\n",
    "        lat = float(row[0])\n",
    "        long = float(row[1])\n",
    "        print(lat)\n",
    "        print(long)\n",
    "        print(lat+long)"
   ]
  },
  {
   "cell_type": "code",
   "execution_count": 2,
   "metadata": {},
   "outputs": [],
   "source": [
    "from gmplot import gmplot"
   ]
  },
  {
   "cell_type": "code",
   "execution_count": 3,
   "metadata": {},
   "outputs": [],
   "source": [
    "gmap = gmplot.GoogleMapPlotter(28.689169, 77.324448, 17)\n",
    "gmap.coloricon = \"http://www.googlemapsmakers.com/v1/%s/\"\n",
    "with open('route.csv','r') as f:\n",
    "    reader = csv.reader(f)\n",
    "    k = 0\n",
    "    for row in reader:\n",
    "        lat = float(row[0])\n",
    "        long = float(row[1])\n",
    "        if(k==0):\n",
    "            gmap.marker(lat,long,'yellow')\n",
    "            k = 1\n",
    "        else:\n",
    "            gmap.marker(lat,long,'blue')\n",
    "\n",
    "gmap.marker(lat,long,'red')\n",
    "gmap.draw(\"mymap.html\")"
   ]
  },
  {
   "cell_type": "code",
   "execution_count": null,
   "metadata": {},
   "outputs": [],
   "source": []
  }
 ],
 "metadata": {
  "kernelspec": {
   "display_name": "Python 3",
   "language": "python",
   "name": "python3"
  },
  "language_info": {
   "codemirror_mode": {
    "name": "ipython",
    "version": 3
   },
   "file_extension": ".py",
   "mimetype": "text/x-python",
   "name": "python",
   "nbconvert_exporter": "python",
   "pygments_lexer": "ipython3",
   "version": "3.7.4"
  }
 },
 "nbformat": 4,
 "nbformat_minor": 2
}
